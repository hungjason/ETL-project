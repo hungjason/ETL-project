{
 "cells": [
  {
   "cell_type": "markdown",
   "metadata": {},
   "source": [
    "# Housing Price Prediction Using Multiple Linear Regression\n",
    "\n",
    "**Jason Hung**\n"
   ]
  },
  {
   "cell_type": "markdown",
   "metadata": {},
   "source": [
    "# Index\n",
    "\n",
    "- [Abstract](#Abstract)\n",
    "- [1. Introduction](#1.-Introduction)\n",
    "- [2. The Data](#2.-The-Data)\n",
    "    - [2.1 Import the Data](#2.1-Import-the-Data)\n",
    "    - [2.2 Data Exploration](#2.2-Data-Exploration)\n",
    "    - [2.3 Data Preparation](#2.3-Data-Preparation)\n",
    "    - [2.4 Correlation](#2.4-Correlation)\n",
    "- [3. Project Description](#3.-Project-Description)\n",
    "    - [3.1 Linear Regression](#3.1-Linear-Regression)\n",
    "    - [3.2 Analysis](#3.2-Analysis)\n",
    "    - [3.3 Results](#3.3-Results)\n",
    "    - [3.4 Verify Your Model Against Test Data](#3.4-Verify-Your-Model-Against-Test-Data)\n",
    "- [Conclusion](#Conclusion)\n",
    "- [References](#References)"
   ]
  },
  {
   "cell_type": "markdown",
   "metadata": {},
   "source": [
    "[Back to top](#Index)\n",
    "\n",
    "\n",
    "##  Abstract\n",
    "\n",
    "The goal of this project was to create a model capable of predicting housing prices given a set of variables through linear regresssion. Through experimentation and analysis, it was found that finding and combining individual variables that had mild to strong correlations to sale price ultimately were able to produce a multiple linear regression model in order to predict sale price. Furthermore, the model was used on new test data that was not used in the making of the model for extra validation."
   ]
  },
  {
   "cell_type": "markdown",
   "metadata": {},
   "source": [
    "[Back to top](#Index)\n",
    "\n",
    "\n",
    "## 1. Introduction\n",
    "\n",
    "The goal of this project was to create a model capable of predicting housing prices given a set of variables through linear regresssion by way of experimentation and analysis. Extra validation was done at the end to further explore the strength of the model.\n",
    "\n",
    "In order to create the model, a dataset of 100 rows and 80 columns -also known as variables- was analyzed. With the use of Python and various data-analysis libraries, the data was sorted, manipulated and cleaned to get a clearer picture for exploration. \n",
    "\n",
    "As a first step, the data was imported into a Pandas dataframe where individual columns could be picked out to be visually inspected via scatter plots against sale price to find any kind of simple correlation as part of the first exploration step. The data was then filtered to have just numeric data for easier processing and operated upon using the corr() function to find individual correlations between each of the columns and final sale price. \n",
    "\n",
    "Next, columns were sorted in descending order via their correlation values and varying numbers of variables were chosen to create three prediction models to be subsequently compared to the original dataset for validation. In order to create the prediction models, columns chosen had to be cleaned of their null values by removal of the entire row instead having them filled with values as at this point it is not clear whether there are any appropriate values to insert. \n",
    "\n",
    "Metrics for validation included the $r^2$ value as well as histograms showing the amount of error between a prediction model and the dataset. From the three models, one model was chosen from having the best metrics.\n",
    "\n",
    "As an extra step, new data was introduced at the end to further measure the strength of the prediction model that was chosen. "
   ]
  },
  {
   "cell_type": "markdown",
   "metadata": {},
   "source": [
    "[Back to top](#Index)\n",
    "\n",
    "## 2. The Data\n",
    "\n",
    "The data file included 80 columns of variables relating to homes such as features and sale price all up to 100 rows. Data ncludes housing features such as: \n",
    "- MSSubClass: Identifies the type of dwelling involved in the sale.\n",
    "- MSZoning: Identifies the general zoning classification of the sale.\n",
    "- LotFrontage: Linear feet of street connected to property\n",
    "- BldgType: Type of dwelling\n",
    "- OverallQual: Rates the overall material and finish of the house\n",
    "- Etc…\n",
    "Note that features include numeric as well as categorical data. \n"
   ]
  },
  {
   "cell_type": "markdown",
   "metadata": {},
   "source": [
    "[Back to top](#Index)\n",
    "\n",
    "### 2.1 Import the Data\n",
    "\n",
    "Below are the Python libraries used in this project. They include pandas, numpy, matplotlib, and sklearn.\n",
    "\n",
    "The data file is houseSmallData.csv.\n"
   ]
  },
  {
   "cell_type": "code",
   "execution_count": 3,
   "metadata": {},
   "outputs": [],
   "source": [
    "import pandas as pd\n",
    "import numpy as np\n",
    "import matplotlib.pyplot as plt\n",
    "from sklearn import linear_model\n",
    "\n",
    "#read in data from csv\n",
    "data = pd.read_csv('houseSmallData.csv')\n"
   ]
  },
  {
   "cell_type": "markdown",
   "metadata": {},
   "source": [
    "[Back to top](#Index)\n",
    "\n",
    "### 2.2 Data Exploration\n",
    "\n",
    "After data import, column names were visually inspected as a first step. Upon initial inspection of the data, columns that stood out to be likely good indicators of sale price included quantitative valuations like OverallQual and OverallCond and specific quantities like LotFrontage and LotArea. Scatterplots of each variable relative to sale price are explored below: "
   ]
  },
  {
   "cell_type": "code",
   "execution_count": 4,
   "metadata": {},
   "outputs": [
    {
     "data": {
      "text/html": [
       "<div>\n",
       "<style scoped>\n",
       "    .dataframe tbody tr th:only-of-type {\n",
       "        vertical-align: middle;\n",
       "    }\n",
       "\n",
       "    .dataframe tbody tr th {\n",
       "        vertical-align: top;\n",
       "    }\n",
       "\n",
       "    .dataframe thead th {\n",
       "        text-align: right;\n",
       "    }\n",
       "</style>\n",
       "<table border=\"1\" class=\"dataframe\">\n",
       "  <thead>\n",
       "    <tr style=\"text-align: right;\">\n",
       "      <th></th>\n",
       "      <th>Unnamed: 0</th>\n",
       "      <th>Id</th>\n",
       "      <th>MSSubClass</th>\n",
       "      <th>LotFrontage</th>\n",
       "      <th>LotArea</th>\n",
       "      <th>OverallQual</th>\n",
       "      <th>OverallCond</th>\n",
       "      <th>YearBuilt</th>\n",
       "      <th>YearRemodAdd</th>\n",
       "      <th>MasVnrArea</th>\n",
       "      <th>...</th>\n",
       "      <th>OpenPorchSF</th>\n",
       "      <th>EnclosedPorch</th>\n",
       "      <th>3SsnPorch</th>\n",
       "      <th>ScreenPorch</th>\n",
       "      <th>PoolArea</th>\n",
       "      <th>PoolQC</th>\n",
       "      <th>MiscVal</th>\n",
       "      <th>MoSold</th>\n",
       "      <th>YrSold</th>\n",
       "      <th>SalePrice</th>\n",
       "    </tr>\n",
       "  </thead>\n",
       "  <tbody>\n",
       "    <tr>\n",
       "      <th>count</th>\n",
       "      <td>100.000000</td>\n",
       "      <td>100.000000</td>\n",
       "      <td>100.000000</td>\n",
       "      <td>86.000000</td>\n",
       "      <td>100.000000</td>\n",
       "      <td>100.000000</td>\n",
       "      <td>100.00000</td>\n",
       "      <td>100.000000</td>\n",
       "      <td>100.000000</td>\n",
       "      <td>100.000000</td>\n",
       "      <td>...</td>\n",
       "      <td>100.000000</td>\n",
       "      <td>100.000000</td>\n",
       "      <td>100.000000</td>\n",
       "      <td>100.000000</td>\n",
       "      <td>100.0</td>\n",
       "      <td>0.0</td>\n",
       "      <td>100.000000</td>\n",
       "      <td>100.000000</td>\n",
       "      <td>100.00000</td>\n",
       "      <td>100.000000</td>\n",
       "    </tr>\n",
       "    <tr>\n",
       "      <th>mean</th>\n",
       "      <td>49.500000</td>\n",
       "      <td>50.500000</td>\n",
       "      <td>52.000000</td>\n",
       "      <td>71.406977</td>\n",
       "      <td>10115.870000</td>\n",
       "      <td>5.980000</td>\n",
       "      <td>5.50000</td>\n",
       "      <td>1971.410000</td>\n",
       "      <td>1983.920000</td>\n",
       "      <td>121.640000</td>\n",
       "      <td>...</td>\n",
       "      <td>46.900000</td>\n",
       "      <td>24.130000</td>\n",
       "      <td>7.270000</td>\n",
       "      <td>10.160000</td>\n",
       "      <td>0.0</td>\n",
       "      <td>NaN</td>\n",
       "      <td>46.300000</td>\n",
       "      <td>6.330000</td>\n",
       "      <td>2007.90000</td>\n",
       "      <td>173820.660000</td>\n",
       "    </tr>\n",
       "    <tr>\n",
       "      <th>std</th>\n",
       "      <td>29.011492</td>\n",
       "      <td>29.011492</td>\n",
       "      <td>42.545282</td>\n",
       "      <td>21.093840</td>\n",
       "      <td>5130.541763</td>\n",
       "      <td>1.530696</td>\n",
       "      <td>0.97959</td>\n",
       "      <td>29.373284</td>\n",
       "      <td>20.967353</td>\n",
       "      <td>213.553982</td>\n",
       "      <td>...</td>\n",
       "      <td>59.743306</td>\n",
       "      <td>60.211019</td>\n",
       "      <td>51.518724</td>\n",
       "      <td>46.908835</td>\n",
       "      <td>0.0</td>\n",
       "      <td>NaN</td>\n",
       "      <td>153.692958</td>\n",
       "      <td>3.048613</td>\n",
       "      <td>1.35959</td>\n",
       "      <td>72236.552886</td>\n",
       "    </tr>\n",
       "    <tr>\n",
       "      <th>min</th>\n",
       "      <td>0.000000</td>\n",
       "      <td>1.000000</td>\n",
       "      <td>20.000000</td>\n",
       "      <td>21.000000</td>\n",
       "      <td>1596.000000</td>\n",
       "      <td>3.000000</td>\n",
       "      <td>2.00000</td>\n",
       "      <td>1910.000000</td>\n",
       "      <td>1950.000000</td>\n",
       "      <td>0.000000</td>\n",
       "      <td>...</td>\n",
       "      <td>0.000000</td>\n",
       "      <td>0.000000</td>\n",
       "      <td>0.000000</td>\n",
       "      <td>0.000000</td>\n",
       "      <td>0.0</td>\n",
       "      <td>NaN</td>\n",
       "      <td>0.000000</td>\n",
       "      <td>1.000000</td>\n",
       "      <td>2006.00000</td>\n",
       "      <td>40000.000000</td>\n",
       "    </tr>\n",
       "    <tr>\n",
       "      <th>25%</th>\n",
       "      <td>24.750000</td>\n",
       "      <td>25.750000</td>\n",
       "      <td>20.000000</td>\n",
       "      <td>60.000000</td>\n",
       "      <td>7643.250000</td>\n",
       "      <td>5.000000</td>\n",
       "      <td>5.00000</td>\n",
       "      <td>1954.750000</td>\n",
       "      <td>1964.750000</td>\n",
       "      <td>0.000000</td>\n",
       "      <td>...</td>\n",
       "      <td>0.000000</td>\n",
       "      <td>0.000000</td>\n",
       "      <td>0.000000</td>\n",
       "      <td>0.000000</td>\n",
       "      <td>0.0</td>\n",
       "      <td>NaN</td>\n",
       "      <td>0.000000</td>\n",
       "      <td>4.750000</td>\n",
       "      <td>2007.00000</td>\n",
       "      <td>129362.500000</td>\n",
       "    </tr>\n",
       "    <tr>\n",
       "      <th>50%</th>\n",
       "      <td>49.500000</td>\n",
       "      <td>50.500000</td>\n",
       "      <td>45.000000</td>\n",
       "      <td>70.000000</td>\n",
       "      <td>9595.500000</td>\n",
       "      <td>6.000000</td>\n",
       "      <td>5.00000</td>\n",
       "      <td>1970.000000</td>\n",
       "      <td>1994.000000</td>\n",
       "      <td>0.000000</td>\n",
       "      <td>...</td>\n",
       "      <td>30.000000</td>\n",
       "      <td>0.000000</td>\n",
       "      <td>0.000000</td>\n",
       "      <td>0.000000</td>\n",
       "      <td>0.0</td>\n",
       "      <td>NaN</td>\n",
       "      <td>0.000000</td>\n",
       "      <td>6.000000</td>\n",
       "      <td>2008.00000</td>\n",
       "      <td>153750.000000</td>\n",
       "    </tr>\n",
       "    <tr>\n",
       "      <th>75%</th>\n",
       "      <td>74.250000</td>\n",
       "      <td>75.250000</td>\n",
       "      <td>60.000000</td>\n",
       "      <td>84.000000</td>\n",
       "      <td>11243.250000</td>\n",
       "      <td>7.000000</td>\n",
       "      <td>6.00000</td>\n",
       "      <td>2000.250000</td>\n",
       "      <td>2003.250000</td>\n",
       "      <td>188.500000</td>\n",
       "      <td>...</td>\n",
       "      <td>72.000000</td>\n",
       "      <td>0.000000</td>\n",
       "      <td>0.000000</td>\n",
       "      <td>0.000000</td>\n",
       "      <td>0.0</td>\n",
       "      <td>NaN</td>\n",
       "      <td>0.000000</td>\n",
       "      <td>8.000000</td>\n",
       "      <td>2009.00000</td>\n",
       "      <td>207750.000000</td>\n",
       "    </tr>\n",
       "    <tr>\n",
       "      <th>max</th>\n",
       "      <td>99.000000</td>\n",
       "      <td>100.000000</td>\n",
       "      <td>190.000000</td>\n",
       "      <td>122.000000</td>\n",
       "      <td>50271.000000</td>\n",
       "      <td>10.000000</td>\n",
       "      <td>8.00000</td>\n",
       "      <td>2009.000000</td>\n",
       "      <td>2009.000000</td>\n",
       "      <td>1115.000000</td>\n",
       "      <td>...</td>\n",
       "      <td>258.000000</td>\n",
       "      <td>272.000000</td>\n",
       "      <td>407.000000</td>\n",
       "      <td>291.000000</td>\n",
       "      <td>0.0</td>\n",
       "      <td>NaN</td>\n",
       "      <td>700.000000</td>\n",
       "      <td>12.000000</td>\n",
       "      <td>2010.00000</td>\n",
       "      <td>438780.000000</td>\n",
       "    </tr>\n",
       "  </tbody>\n",
       "</table>\n",
       "<p>8 rows × 40 columns</p>\n",
       "</div>"
      ],
      "text/plain": [
       "       Unnamed: 0          Id  MSSubClass  LotFrontage       LotArea  \\\n",
       "count  100.000000  100.000000  100.000000    86.000000    100.000000   \n",
       "mean    49.500000   50.500000   52.000000    71.406977  10115.870000   \n",
       "std     29.011492   29.011492   42.545282    21.093840   5130.541763   \n",
       "min      0.000000    1.000000   20.000000    21.000000   1596.000000   \n",
       "25%     24.750000   25.750000   20.000000    60.000000   7643.250000   \n",
       "50%     49.500000   50.500000   45.000000    70.000000   9595.500000   \n",
       "75%     74.250000   75.250000   60.000000    84.000000  11243.250000   \n",
       "max     99.000000  100.000000  190.000000   122.000000  50271.000000   \n",
       "\n",
       "       OverallQual  OverallCond    YearBuilt  YearRemodAdd   MasVnrArea  ...  \\\n",
       "count   100.000000    100.00000   100.000000    100.000000   100.000000  ...   \n",
       "mean      5.980000      5.50000  1971.410000   1983.920000   121.640000  ...   \n",
       "std       1.530696      0.97959    29.373284     20.967353   213.553982  ...   \n",
       "min       3.000000      2.00000  1910.000000   1950.000000     0.000000  ...   \n",
       "25%       5.000000      5.00000  1954.750000   1964.750000     0.000000  ...   \n",
       "50%       6.000000      5.00000  1970.000000   1994.000000     0.000000  ...   \n",
       "75%       7.000000      6.00000  2000.250000   2003.250000   188.500000  ...   \n",
       "max      10.000000      8.00000  2009.000000   2009.000000  1115.000000  ...   \n",
       "\n",
       "       OpenPorchSF  EnclosedPorch   3SsnPorch  ScreenPorch  PoolArea  PoolQC  \\\n",
       "count   100.000000     100.000000  100.000000   100.000000     100.0     0.0   \n",
       "mean     46.900000      24.130000    7.270000    10.160000       0.0     NaN   \n",
       "std      59.743306      60.211019   51.518724    46.908835       0.0     NaN   \n",
       "min       0.000000       0.000000    0.000000     0.000000       0.0     NaN   \n",
       "25%       0.000000       0.000000    0.000000     0.000000       0.0     NaN   \n",
       "50%      30.000000       0.000000    0.000000     0.000000       0.0     NaN   \n",
       "75%      72.000000       0.000000    0.000000     0.000000       0.0     NaN   \n",
       "max     258.000000     272.000000  407.000000   291.000000       0.0     NaN   \n",
       "\n",
       "          MiscVal      MoSold      YrSold      SalePrice  \n",
       "count  100.000000  100.000000   100.00000     100.000000  \n",
       "mean    46.300000    6.330000  2007.90000  173820.660000  \n",
       "std    153.692958    3.048613     1.35959   72236.552886  \n",
       "min      0.000000    1.000000  2006.00000   40000.000000  \n",
       "25%      0.000000    4.750000  2007.00000  129362.500000  \n",
       "50%      0.000000    6.000000  2008.00000  153750.000000  \n",
       "75%      0.000000    8.000000  2009.00000  207750.000000  \n",
       "max    700.000000   12.000000  2010.00000  438780.000000  \n",
       "\n",
       "[8 rows x 40 columns]"
      ]
     },
     "execution_count": 4,
     "metadata": {},
     "output_type": "execute_result"
    }
   ],
   "source": [
    "data.describe()"
   ]
  },
  {
   "cell_type": "markdown",
   "metadata": {},
   "source": [
    "#### OverallQual vs. SalePrice ####\n",
    "The plot of OverallQual vs. SalePrice appears to show a clear positive correlation where as OverallQual goes up, so does SalePrice. "
   ]
  },
  {
   "cell_type": "code",
   "execution_count": 5,
   "metadata": {},
   "outputs": [
    {
     "data": {
      "text/plain": [
       "<matplotlib.collections.PathCollection at 0x1e74238a0d0>"
      ]
     },
     "execution_count": 5,
     "metadata": {},
     "output_type": "execute_result"
    },
    {
     "data": {
      "image/png": "[encoded data removed]",
      "text/plain": [
       "<Figure size 432x288 with 1 Axes>"
      ]
     },
     "metadata": {
      "needs_background": "light"
     },
     "output_type": "display_data"
    }
   ],
   "source": [
    "#PLotting OverallQual vs. SalePrice\n",
    "plt.scatter(data['OverallQual'],y = data['SalePrice'])"
   ]
  },
  {
   "cell_type": "markdown",
   "metadata": {},
   "source": [
    "#### OverallCond vs. SalePrice ####\n",
    "In the case of OverallCond vs. SalePrice, visually there does not seem to be a clear correlation positive or negative. "
   ]
  },
  {
   "cell_type": "code",
   "execution_count": 6,
   "metadata": {},
   "outputs": [
    {
     "data": {
      "text/plain": [
       "<matplotlib.collections.PathCollection at 0x1e74250d5e0>"
      ]
     },
     "execution_count": 6,
     "metadata": {},
     "output_type": "execute_result"
    },
    {
     "data": {
      "image/png": "[encoded data removed]",
      "text/plain": [
       "<Figure size 432x288 with 1 Axes>"
      ]
     },
     "metadata": {
      "needs_background": "light"
     },
     "output_type": "display_data"
    }
   ],
   "source": [
    "#PLotting OverallCond vs. SalePrice\n",
    "plt.scatter(data['OverallCond'],y = data['SalePrice'])"
   ]
  },
  {
   "cell_type": "markdown",
   "metadata": {},
   "source": [
    "#### LotFrontage vs. SalePrice ####\n",
    "LotFrontage vs. SalePrice also seems very scattered and appears to have no clear correlation or perhaps a very low positive correlation."
   ]
  },
  {
   "cell_type": "code",
   "execution_count": 7,
   "metadata": {
    "scrolled": true
   },
   "outputs": [
    {
     "data": {
      "text/plain": [
       "<matplotlib.collections.PathCollection at 0x1e742581700>"
      ]
     },
     "execution_count": 7,
     "metadata": {},
     "output_type": "execute_result"
    },
    {
     "data": {
      "image/png": "[encoded data removed]",
      "text/plain": [
       "<Figure size 432x288 with 1 Axes>"
      ]
     },
     "metadata": {
      "needs_background": "light"
     },
     "output_type": "display_data"
    }
   ],
   "source": [
    "#PLotting LotFrontage vs. SalePrice\n",
    "plt.scatter(data['LotFrontage'],y = data['SalePrice'])"
   ]
  },
  {
   "cell_type": "markdown",
   "metadata": {},
   "source": [
    "#### LotArea vs. SalePrice ####\n",
    "At first LotArea vs. SalePrice seems to offer a very steep positive correlation with an outlier. Further investigation for this variable would be required to be sure. "
   ]
  },
  {
   "cell_type": "code",
   "execution_count": 8,
   "metadata": {},
   "outputs": [
    {
     "data": {
      "text/plain": [
       "<matplotlib.collections.PathCollection at 0x1e7425abf40>"
      ]
     },
     "execution_count": 8,
     "metadata": {},
     "output_type": "execute_result"
    },
    {
     "data": {
      "image/png": "[encoded data removed]",
      "text/plain": [
       "<Figure size 432x288 with 1 Axes>"
      ]
     },
     "metadata": {
      "needs_background": "light"
     },
     "output_type": "display_data"
    }
   ],
   "source": [
    "#PLotting LotArea vs. SalePrice\n",
    "plt.scatter(data['LotArea'],y = data['SalePrice'])"
   ]
  },
  {
   "cell_type": "markdown",
   "metadata": {},
   "source": [
    "[Back to top](#Index)\n",
    "\n",
    "### 2.3 Data Preparation\n",
    "\n",
    "The data needed to be cleaned up and reshaped due to direct processing and analysis on categorical columns (non-numeric) not being possible. Therefore, only columns with numeric data were separated out and analyzed. \n",
    "\n",
    "Furthermore, before creating the prediction models, data rows where nulls values were present were dropped since there is not enough information to fill the nulls with meaningful or appropriate data.\n"
   ]
  },
  {
   "cell_type": "code",
   "execution_count": 9,
   "metadata": {},
   "outputs": [],
   "source": [
    "# filtering out columns/variables that are numeric in order to analyze and find correlations to sale price\n",
    "numeric = data.select_dtypes(include=[np.number])"
   ]
  },
  {
   "cell_type": "markdown",
   "metadata": {},
   "source": [
    "[Back to top](#Index)\n",
    "\n",
    "### 2.4 Correlation\n",
    "\n",
    "Correlations show either positive or negative relationships between two variables. Either a relationship is positive where as one variable goes up, the other goes up as well, or a relationship is negative where as one variable goes down, the other goes up. \n",
    "\n",
    "Once correlations were calculated between all the numeric data columns and sales price, they were sorted in descending order to show that OverallQuall showed the highest positive correlation at 0.855 all the way to YrSold which showed the strongest negative correlation at -0.263.\n",
    "\n",
    "With strong positive or negative correlations, variables are shown to affect and pull the sales price in a certain direction. Using this knowledge, one can find and combine different variables that exhibit mild to strong correlations in order to attempt the prediction of sales prices. \n",
    "\n",
    "The three prediction models used varying numbers of variables all from the top end of the highest correlated variables. Each model showed very high $r^2$ values and all seems to have (prediction-salePrice) errors centered around 0. "
   ]
  },
  {
   "cell_type": "code",
   "execution_count": 10,
   "metadata": {},
   "outputs": [
    {
     "data": {
      "text/plain": [
       "SalePrice        1.000000\n",
       "OverallQual      0.855061\n",
       "GrLivArea        0.735129\n",
       "GarageArea       0.688249\n",
       "GarageCars       0.663441\n",
       "YearBuilt        0.658636\n",
       "TotalBsmtSF      0.616297\n",
       "GarageYrBlt      0.603635\n",
       "FullBath         0.579505\n",
       "MasVnrArea       0.571836\n",
       "TotRmsAbvGrd     0.553603\n",
       "1stFlrSF         0.550912\n",
       "YearRemodAdd     0.548330\n",
       "LotArea          0.497124\n",
       "Fireplaces       0.487907\n",
       "WoodDeckSF       0.451241\n",
       "2ndFlrSF         0.381076\n",
       "BsmtUnfSF        0.327020\n",
       "HalfBath         0.319304\n",
       "LotFrontage      0.302526\n",
       "OpenPorchSF      0.301960\n",
       "BsmtFinSF1       0.266713\n",
       "MoSold           0.256863\n",
       "BedroomAbvGr     0.233426\n",
       "BsmtFullBath     0.155689\n",
       "ScreenPorch      0.035930\n",
       "3SsnPorch       -0.019391\n",
       "BsmtHalfBath    -0.055100\n",
       "MSSubClass      -0.066819\n",
       "MiscVal         -0.134707\n",
       "BsmtFinSF2      -0.138126\n",
       "LowQualFinSF    -0.150027\n",
       "Id              -0.162735\n",
       "Unnamed: 0      -0.162735\n",
       "OverallCond     -0.170443\n",
       "EnclosedPorch   -0.233483\n",
       "KitchenAbvGr    -0.235659\n",
       "YrSold          -0.262683\n",
       "PoolArea              NaN\n",
       "PoolQC                NaN\n",
       "Name: SalePrice, dtype: float64"
      ]
     },
     "execution_count": 10,
     "metadata": {},
     "output_type": "execute_result"
    }
   ],
   "source": [
    "#Correlations were taken of all the numeric data columns \n",
    "corr = numeric.corr()\n",
    "cols = corr['SalePrice'].sort_values(ascending=False)\n",
    "cols"
   ]
  },
  {
   "cell_type": "markdown",
   "metadata": {},
   "source": [
    "\n",
    "[Back to top](#Index)\n",
    "\n",
    "## 3. Project Description\n",
    "\n",
    "With linear regression, the data is assume to be linearly dependent and therefore correlation values are very important when trying to create a linear regression model. For the purpose of this project, it has been determined that there are certain variables such as overall condition, certain areas, and garage features that are well correlated with sale price of a house and therefore a linear regression model for prediction would be very appropriate for predicting housing sale price. \n",
    "\n",
    "In the analysis of correlation values, generally all correlation values above 0.1 were chosen with each prediction model varying in the amount of columns chosen. With these extra variables, it would not be a stretch to assume one could come up with a more accurate prediction model, at least within the range of the current dataset. Therefore, the criteria for choosing variables was strictly based on numerical correlation and nothing else. \n",
    "\n",
    "For the buliding of the regression models, the sklearn library for Python was used to create a instance of a linear model and then impmlemented using the columns that were chosen. The same library would also used find the $r^2$ value a the matplotlib library would be used for giving a visual graph of the error between model and actual data. \n",
    "\n",
    "More exploration into the results shows that according to the validation metrics, the more columns were chosen, the higher the $r^2$ value. "
   ]
  },
  {
   "cell_type": "markdown",
   "metadata": {},
   "source": [
    "[Back to top](#Index)\n",
    "\n",
    "### 3.1 Linear Regression\n",
    "\n",
    "\n",
    "In data analysis and predictions, linear regression is a long established statistical procedure to reliably predict the future.\n",
    "\n",
    "Linear regression is a machine learning algorithm to predict values within a continuous range with the major assumption that the data indeed has a linear relationship. Multiple linear regression was in this project due to the mix of variables avaible. \n",
    "The two forms are simple, where there is a single independent variable $x$ used to predict a single dependent variable $y$, and multiple linear regression, where as an extension multiple independent variables $x_n$are used to predict a single dependent variable $y$. \n",
    "\n",
    "Simple Linear Regression: \n",
    "$$y = mx+b.$$\n",
    "\n",
    "Multiple Linear Regression\n",
    "$$y = m_1x_1+m_2x_2+m_3x_3+...+m_nx_n+b.$$\n",
    "\n",
    "the constants $m$ and $b$ are known as weight and bias, respectively. They are calculated as: \n",
    "\n",
    "$$m=\\frac{n\\sum{xy}-\\sum{x}\\sum{y}}{n\\sum{x^2}-(\\sum{x})^2}$$\n",
    "\n",
    "$$b=\\frac{\\sum{y}-m\\sum{x}}{n}$$\n",
    "\n",
    "To derive the regression by hand, we use ***least-squares*** to fit a line to the data. Least-squares is where a lines known as ***residuals*** are drawn vertically from each data point to a fitted line and its distance is squared to get squares that are added up -or summed- to be minimized as the fitted line is rotated to find the ***best fit***. The smaller the sum of squares, the tighter the fit of the line, and the higher the $r^2$ value.\n",
    "\n",
    "In Python, the sklearn library has a linear_model submodule that will take care of calculations and data points once input data is provided. All that is needed is analysis and selection of the independent variables relative to the dependent variable and with the use of the linear_model submodule, Python will be able to implement a linear model for data input and give out predictions. Graphical plots with the matplotlib library and numerical scores such as the $r^2$ value with the sklearn library are used to validate the effectiveness of the model."
   ]
  },
  {
   "cell_type": "markdown",
   "metadata": {},
   "source": [
    "[Back to top](#Index)\n",
    "\n",
    "### 3.2 Analysis \n",
    "\n",
    "Below are the analysis steps for the three groups of prediction models created.\n"
   ]
  },
  {
   "cell_type": "markdown",
   "metadata": {},
   "source": [
    "#### Group 1 - 8 columns with highest positive correlations ####\n",
    "By creating a model with all the highest correlated variables, the highest $r^2$ value was achieved at 0.91. With the mean error at around 0, this is a good model relative to the dataset."
   ]
  },
  {
   "cell_type": "code",
   "execution_count": 11,
   "metadata": {},
   "outputs": [
    {
     "name": "stderr",
     "output_type": "stream",
     "text": [
      "C:\\Users\\Kuo_5\\AppData\\Local\\Temp\\ipykernel_3992\\2898398582.py:8: SettingWithCopyWarning: \n",
      "A value is trying to be set on a copy of a slice from a DataFrame\n",
      "\n",
      "See the caveats in the documentation: https://pandas.pydata.org/pandas-docs/stable/user_guide/indexing.html#returning-a-view-versus-a-copy\n",
      "  X.dropna(axis=0,inplace=True)\n"
     ]
    }
   ],
   "source": [
    "#assign X and Y \n",
    "X = data[cols[0:24].index]\n",
    "\n",
    "#checking for null values in dataset\n",
    "nulls = pd.DataFrame(X.isnull().sum().sort_values(ascending=False))\n",
    "\n",
    "#dropping data rows with null values\n",
    "X.dropna(axis=0,inplace=True)\n",
    "\n",
    "Y1 = X['SalePrice']\n",
    "X1 = X.drop(['SalePrice'],axis=1)"
   ]
  },
  {
   "cell_type": "code",
   "execution_count": 12,
   "metadata": {},
   "outputs": [],
   "source": [
    "# build Linear Regression Model\n",
    "lr = linear_model.LinearRegression() #instantiates the linear regression model so it can be implemented\n",
    "model1 = lr.fit(X1,Y1) #fits the model according to given data\n",
    "predictions1 = model1.predict(X1) # predict class labels for samples in X1"
   ]
  },
  {
   "cell_type": "code",
   "execution_count": 13,
   "metadata": {},
   "outputs": [
    {
     "name": "stdout",
     "output_type": "stream",
     "text": [
      "X1 R^2 is: 0.9093299046484772\n"
     ]
    }
   ],
   "source": [
    "# how good is model X1\n",
    "print(f'X1 R^2 is: {model1.score(X1,Y1)}')  #score() returns the mean accuracy of the model as a percentage"
   ]
  },
  {
   "cell_type": "code",
   "execution_count": 14,
   "metadata": {},
   "outputs": [
    {
     "data": {
      "text/plain": [
       "(array([ 5.,  6., 13., 13., 19., 14.,  6.,  3.,  0.,  1.]),\n",
       " array([-50224.67895744, -37703.13313639, -25181.58731534, -12660.04149428,\n",
       "          -138.49567323,  12383.05014782,  24904.59596887,  37426.14178992,\n",
       "         49947.68761097,  62469.23343202,  74990.77925307]),\n",
       " <BarContainer object of 10 artists>)"
      ]
     },
     "execution_count": 14,
     "metadata": {},
     "output_type": "execute_result"
    },
    {
     "data": {
      "image/png": "[encoded data removed]",
      "text/plain": [
       "<Figure size 432x288 with 1 Axes>"
      ]
     },
     "metadata": {
      "needs_background": "light"
     },
     "output_type": "display_data"
    }
   ],
   "source": [
    "#plotting the error X1 model\n",
    "plt.hist(Y1-predictions1) #notice how the mean is around 0, this is good"
   ]
  },
  {
   "cell_type": "code",
   "execution_count": 33,
   "metadata": {},
   "outputs": [
    {
     "data": {
      "text/plain": [
       "<matplotlib.collections.PathCollection at 0x1e7445591c0>"
      ]
     },
     "execution_count": 33,
     "metadata": {},
     "output_type": "execute_result"
    },
    {
     "data": {
      "image/png": "[encoded data removed]",
      "text/plain": [
       "<Figure size 432x288 with 1 Axes>"
      ]
     },
     "metadata": {
      "needs_background": "light"
     },
     "output_type": "display_data"
    }
   ],
   "source": [
    "# a scatter plot of predictions vs. data\n",
    "plt.scatter(predictions1,Y1)"
   ]
  },
  {
   "cell_type": "markdown",
   "metadata": {},
   "source": [
    "#### Group 2 - Just 3 column with the highest correlation\n",
    "For comparison, a model using the top 3 highest correlated variables to explore the option that perhaps more is not always better. In this case, the lowest $r^2$ value was achieved at 0.79. With the mean error also at around 0, this is also a good model relative to the dataset."
   ]
  },
  {
   "cell_type": "code",
   "execution_count": 15,
   "metadata": {},
   "outputs": [
    {
     "name": "stderr",
     "output_type": "stream",
     "text": [
      "C:\\Users\\Kuo_5\\AppData\\Local\\Temp\\ipykernel_3992\\518205921.py:5: SettingWithCopyWarning: \n",
      "A value is trying to be set on a copy of a slice from a DataFrame\n",
      "\n",
      "See the caveats in the documentation: https://pandas.pydata.org/pandas-docs/stable/user_guide/indexing.html#returning-a-view-versus-a-copy\n",
      "  X.dropna(axis=0,inplace=True)\n"
     ]
    }
   ],
   "source": [
    "#assign X and Y \n",
    "X = data[cols[0:4].index]\n",
    "\n",
    "#dropping data rows with null values\n",
    "X.dropna(axis=0,inplace=True)\n",
    "\n",
    "Y2 = X['SalePrice']\n",
    "X2 = X.drop(['SalePrice'],axis=1)"
   ]
  },
  {
   "cell_type": "code",
   "execution_count": 16,
   "metadata": {},
   "outputs": [],
   "source": [
    "# build Linear Regression Model\n",
    "lr = linear_model.LinearRegression()\n",
    "model2 = lr.fit(X2,Y2)\n",
    "predictions2 = model2.predict(X2)"
   ]
  },
  {
   "cell_type": "code",
   "execution_count": 17,
   "metadata": {},
   "outputs": [
    {
     "name": "stdout",
     "output_type": "stream",
     "text": [
      "X2 R^2 is: 0.789158151143107\n"
     ]
    }
   ],
   "source": [
    "# how good is model X2\n",
    "print(f'X2 R^2 is: {model2.score(X2,Y2)}')"
   ]
  },
  {
   "cell_type": "code",
   "execution_count": 18,
   "metadata": {},
   "outputs": [
    {
     "data": {
      "text/plain": [
       "(array([ 5.,  3.,  5., 13., 29., 24.,  8.,  8.,  3.,  2.]),\n",
       " array([-84932.65934685, -67293.91268757, -49655.16602829, -32016.41936902,\n",
       "        -14377.67270974,   3261.07394954,  20899.82060882,  38538.56726809,\n",
       "         56177.31392737,  73816.06058665,  91454.80724593]),\n",
       " <BarContainer object of 10 artists>)"
      ]
     },
     "execution_count": 18,
     "metadata": {},
     "output_type": "execute_result"
    },
    {
     "data": {
      "image/png": "[encoded data removed]",
      "text/plain": [
       "<Figure size 432x288 with 1 Axes>"
      ]
     },
     "metadata": {
      "needs_background": "light"
     },
     "output_type": "display_data"
    }
   ],
   "source": [
    "#plotting the error X2 model\n",
    "plt.hist(Y2-predictions2) #mean is even more centered around 0, even better"
   ]
  },
  {
   "cell_type": "markdown",
   "metadata": {},
   "source": [
    "#### Group 3 - 5 columns with highest positive correlations ####\n",
    "As a final group, the variables chosen by Dr. Williams was chosen to be able to directly compare. The $r^2$ value of 0.83 was achieved. With the mean error at around 0, this is still a good model relative to the dataset."
   ]
  },
  {
   "cell_type": "code",
   "execution_count": 19,
   "metadata": {},
   "outputs": [
    {
     "name": "stderr",
     "output_type": "stream",
     "text": [
      "C:\\Users\\Kuo_5\\AppData\\Local\\Temp\\ipykernel_3992\\2257705025.py:5: SettingWithCopyWarning: \n",
      "A value is trying to be set on a copy of a slice from a DataFrame\n",
      "\n",
      "See the caveats in the documentation: https://pandas.pydata.org/pandas-docs/stable/user_guide/indexing.html#returning-a-view-versus-a-copy\n",
      "  X.dropna(axis=0,inplace=True)\n"
     ]
    }
   ],
   "source": [
    "#assign X and Y \n",
    "X = data[cols[0:6].index]\n",
    "\n",
    "#dropping data rows with null values\n",
    "X.dropna(axis=0,inplace=True)\n",
    "\n",
    "Y3 = X['SalePrice']\n",
    "X3 = X.drop(['SalePrice'],axis=1)"
   ]
  },
  {
   "cell_type": "code",
   "execution_count": 20,
   "metadata": {},
   "outputs": [],
   "source": [
    "# build Linear Regression Model\n",
    "lr = linear_model.LinearRegression() #instantiates the linear regression model so it can be implemented\n",
    "model3 = lr.fit(X3,Y3) #fits the model according to given data\n",
    "predictions3 = model3.predict(X3) # predict class labels for samples in X"
   ]
  },
  {
   "cell_type": "code",
   "execution_count": 21,
   "metadata": {},
   "outputs": [
    {
     "name": "stdout",
     "output_type": "stream",
     "text": [
      "X3 R^2 is: 0.8309859964337736\n"
     ]
    }
   ],
   "source": [
    "# how good is the model X3\n",
    "print(f'X3 R^2 is: {model3.score(X3,Y3)}')  #score() returns the mean accuracy of the model as a percentage"
   ]
  },
  {
   "cell_type": "code",
   "execution_count": 22,
   "metadata": {},
   "outputs": [
    {
     "data": {
      "text/plain": [
       "(array([ 2.,  4., 19., 26., 26., 13.,  6.,  2.,  0.,  2.]),\n",
       " array([-72416.69551558, -54597.83016337, -36778.96481115, -18960.09945894,\n",
       "         -1141.23410673,  16677.63124549,  34496.4965977 ,  52315.36194991,\n",
       "         70134.22730213,  87953.09265434, 105771.95800655]),\n",
       " <BarContainer object of 10 artists>)"
      ]
     },
     "execution_count": 22,
     "metadata": {},
     "output_type": "execute_result"
    },
    {
     "data": {
      "image/png": "[encoded data removed]",
      "text/plain": [
       "<Figure size 432x288 with 1 Axes>"
      ]
     },
     "metadata": {
      "needs_background": "light"
     },
     "output_type": "display_data"
    }
   ],
   "source": [
    "#plotting the error X3 model\n",
    "plt.hist(Y3-predictions3) #the mean is still around 0, this is also good"
   ]
  },
  {
   "cell_type": "markdown",
   "metadata": {},
   "source": [
    "[Back to top](#Index)\n",
    "\n",
    "### 3.3 Results\n",
    "\n",
    "Metrics used to validate effectiveness of the models was the $r^2$ value and a graph depicting the difference between the prediction model and actual sales price data. \n",
    "\n",
    "In all cases, the mean of the error plots were all centered around 0 with varying variances. All in all, good results.\n",
    "\n",
    "By comparison, it would seem that model X1 with the 23 columns with the highest correlations to sales price did the best with a centered error plot around 0 and the highest $r^2$ value of 0.91. This means that model X1 is the best prediction model with the best fit line through the dataset. Another way to think about it is that the $r^2$ shows that the variables chosen explain 0.91 or 91% of the variation in sale price, at least within the dataset.\n",
    "\n",
    "\n",
    "Results are posted below for reference. \n"
   ]
  },
  {
   "cell_type": "markdown",
   "metadata": {},
   "source": [
    "#### Group 1 ####"
   ]
  },
  {
   "cell_type": "code",
   "execution_count": 23,
   "metadata": {},
   "outputs": [
    {
     "name": "stdout",
     "output_type": "stream",
     "text": [
      "X1 R^2 is: 0.9093299046484772\n"
     ]
    }
   ],
   "source": [
    "# how good is model X1\n",
    "print(f'X1 R^2 is: {model1.score(X1,Y1)}')  #score() returns the mean accuracy of the model as a percentage"
   ]
  },
  {
   "cell_type": "code",
   "execution_count": 24,
   "metadata": {},
   "outputs": [
    {
     "data": {
      "text/plain": [
       "(array([ 5.,  6., 13., 13., 19., 14.,  6.,  3.,  0.,  1.]),\n",
       " array([-50224.67895744, -37703.13313639, -25181.58731534, -12660.04149428,\n",
       "          -138.49567323,  12383.05014782,  24904.59596887,  37426.14178992,\n",
       "         49947.68761097,  62469.23343202,  74990.77925307]),\n",
       " <BarContainer object of 10 artists>)"
      ]
     },
     "execution_count": 24,
     "metadata": {},
     "output_type": "execute_result"
    },
    {
     "data": {
      "image/png": "[encoded data removed]",
      "text/plain": [
       "<Figure size 432x288 with 1 Axes>"
      ]
     },
     "metadata": {
      "needs_background": "light"
     },
     "output_type": "display_data"
    }
   ],
   "source": [
    "#plotting the error X1 model\n",
    "plt.hist(Y1-predictions1) #notice how the mean is around 0, this is good"
   ]
  },
  {
   "cell_type": "markdown",
   "metadata": {},
   "source": [
    "#### Group 2 ####"
   ]
  },
  {
   "cell_type": "code",
   "execution_count": 25,
   "metadata": {},
   "outputs": [
    {
     "name": "stdout",
     "output_type": "stream",
     "text": [
      "X2 R^2 is: 0.789158151143107\n"
     ]
    }
   ],
   "source": [
    "# how good is model X2\n",
    "print(f'X2 R^2 is: {model2.score(X2,Y2)}')"
   ]
  },
  {
   "cell_type": "code",
   "execution_count": 26,
   "metadata": {},
   "outputs": [
    {
     "data": {
      "text/plain": [
       "(array([ 5.,  3.,  5., 13., 29., 24.,  8.,  8.,  3.,  2.]),\n",
       " array([-84932.65934685, -67293.91268757, -49655.16602829, -32016.41936902,\n",
       "        -14377.67270974,   3261.07394954,  20899.82060882,  38538.56726809,\n",
       "         56177.31392737,  73816.06058665,  91454.80724593]),\n",
       " <BarContainer object of 10 artists>)"
      ]
     },
     "execution_count": 26,
     "metadata": {},
     "output_type": "execute_result"
    },
    {
     "data": {
      "image/png": "[encoded data removed]",
      "text/plain": [
       "<Figure size 432x288 with 1 Axes>"
      ]
     },
     "metadata": {
      "needs_background": "light"
     },
     "output_type": "display_data"
    }
   ],
   "source": [
    "#plotting the error X2 model\n",
    "plt.hist(Y2-predictions2) #mean is even more centered around 0, even better"
   ]
  },
  {
   "cell_type": "markdown",
   "metadata": {},
   "source": [
    "#### Group 3 ####"
   ]
  },
  {
   "cell_type": "code",
   "execution_count": 27,
   "metadata": {},
   "outputs": [
    {
     "name": "stdout",
     "output_type": "stream",
     "text": [
      "X3 R^2 is: 0.8309859964337736\n"
     ]
    }
   ],
   "source": [
    "# how good is the model X3\n",
    "print(f'X3 R^2 is: {model3.score(X3,Y3)}')  #score() returns the mean accuracy of the model as a percentage"
   ]
  },
  {
   "cell_type": "code",
   "execution_count": 28,
   "metadata": {},
   "outputs": [
    {
     "data": {
      "text/plain": [
       "(array([ 2.,  4., 19., 26., 26., 13.,  6.,  2.,  0.,  2.]),\n",
       " array([-72416.69551558, -54597.83016337, -36778.96481115, -18960.09945894,\n",
       "         -1141.23410673,  16677.63124549,  34496.4965977 ,  52315.36194991,\n",
       "         70134.22730213,  87953.09265434, 105771.95800655]),\n",
       " <BarContainer object of 10 artists>)"
      ]
     },
     "execution_count": 28,
     "metadata": {},
     "output_type": "execute_result"
    },
    {
     "data": {
      "image/png": "[encoded data removed]",
      "text/plain": [
       "<Figure size 432x288 with 1 Axes>"
      ]
     },
     "metadata": {
      "needs_background": "light"
     },
     "output_type": "display_data"
    }
   ],
   "source": [
    "#plotting the error X3 model\n",
    "plt.hist(Y3-predictions3) #the mean is still around 0, this is also good"
   ]
  },
  {
   "cell_type": "markdown",
   "metadata": {},
   "source": [
    "[Back to top](#Index)\n",
    "\n",
    "### 3.4 Verify Your Model Against Test Data\n",
    "\n",
    "Using the prediction model on the test data yielded a lower $r^2$ value of 0.71. This is lower than anticipated but not unexpected since new data may not always correlate well to the original parameters. However, the error plot shows the error centered around 0 still, so that is a good sign of a fairly decent prediction. \n"
   ]
  },
  {
   "cell_type": "code",
   "execution_count": 29,
   "metadata": {},
   "outputs": [
    {
     "name": "stderr",
     "output_type": "stream",
     "text": [
      "C:\\Users\\Kuo_5\\AppData\\Local\\Temp\\ipykernel_3992\\3591013708.py:11: SettingWithCopyWarning: \n",
      "A value is trying to be set on a copy of a slice from a DataFrame\n",
      "\n",
      "See the caveats in the documentation: https://pandas.pydata.org/pandas-docs/stable/user_guide/indexing.html#returning-a-view-versus-a-copy\n",
      "  Xi.dropna(axis=0,inplace=True)\n"
     ]
    }
   ],
   "source": [
    "#read in data from csv\n",
    "data2 = pd.read_csv('jtest.csv')\n",
    "\n",
    "#assign X and Y \n",
    "Xi = data2[cols[0:24].index]\n",
    "\n",
    "#checking for null values in dataset\n",
    "nulls = pd.DataFrame(Xi.isnull().sum().sort_values(ascending=False))\n",
    "\n",
    "#dropping data rows with null values\n",
    "Xi.dropna(axis=0,inplace=True)\n",
    "\n",
    "Yi = Xi['SalePrice']\n",
    "Xi = Xi.drop(['SalePrice'],axis=1)"
   ]
  },
  {
   "cell_type": "code",
   "execution_count": 30,
   "metadata": {},
   "outputs": [
    {
     "name": "stdout",
     "output_type": "stream",
     "text": [
      "Test data R^2 is : 0.7138650096832457\n"
     ]
    }
   ],
   "source": [
    "# use Linear Regression Model\n",
    "predictionsi = model1.predict(Xi)\n",
    "print(f'Test data R^2 is : {model1.score(Xi,Yi)}')"
   ]
  },
  {
   "cell_type": "code",
   "execution_count": 36,
   "metadata": {},
   "outputs": [
    {
     "data": {
      "text/plain": [
       "(array([ 3., 10., 16., 22.,  7.,  5.,  3.,  1.,  0.,  2.]),\n",
       " array([-74869.51010644, -50662.24934272, -26454.98857899,  -2247.72781527,\n",
       "         21959.53294845,  46166.79371218,  70374.0544759 ,  94581.31523962,\n",
       "        118788.57600335, 142995.83676707, 167203.09753079]),\n",
       " <BarContainer object of 10 artists>)"
      ]
     },
     "execution_count": 36,
     "metadata": {},
     "output_type": "execute_result"
    },
    {
     "data": {
      "image/png": "[encoded data removed]",
      "text/plain": [
       "<Figure size 432x288 with 1 Axes>"
      ]
     },
     "metadata": {
      "needs_background": "light"
     },
     "output_type": "display_data"
    }
   ],
   "source": [
    "#plotting the error X1 model\n",
    "plt.hist(Yi-predictionsi) "
   ]
  },
  {
   "cell_type": "code",
   "execution_count": 31,
   "metadata": {},
   "outputs": [
    {
     "data": {
      "text/plain": [
       "<matplotlib.collections.PathCollection at 0x1e744478490>"
      ]
     },
     "execution_count": 31,
     "metadata": {},
     "output_type": "execute_result"
    },
    {
     "data": {
      "image/png": "[encoded data removed]",
      "text/plain": [
       "<Figure size 432x288 with 1 Axes>"
      ]
     },
     "metadata": {
      "needs_background": "light"
     },
     "output_type": "display_data"
    }
   ],
   "source": [
    "# a scatter plot of predictions vs. data\n",
    "plt.scatter(predictionsi,Yi)"
   ]
  },
  {
   "cell_type": "markdown",
   "metadata": {},
   "source": [
    "[Back to top](#Index)\n",
    "\n",
    "## Conclusion\n",
    "\n",
    "In terms of results based in the original dataset, the model with the most positively correlated variables yielded the best prediction mode. This was shown by an extremely high $r^2$ value and a good error plot with a mean about 0. \n",
    "\n",
    "However, the conclusion drawn from this study is that although linear regression is a great tool for finding relationships/correlations between variables, it would seem that fitting well on one set of data does not necessarily translate into fitting well in another set of data. This would be similar to taking a sample of a population only to find that the statistical parameters of the sample may differ from that of the population, not to mention another sample of that same population. \n",
    "\n",
    "However, one cannot ignore to importance of improvements such as further investigation could have the inclusion of categorical data by one hot enconding in order to be analyzed more effectively. Null values could also have been filled instead of removed but that requires more knowledge on what could constitute appropriate values to use. Another point could be that test data could simply be outside the range of the original data.\n",
    "\n",
    "There is always more to be done and more trials to go through. This would be the lesson illustrated by the Central Limit Theorem, that in order to find the true parameters, more trials and/or larger samples sizes are required. "
   ]
  },
  {
   "cell_type": "markdown",
   "metadata": {},
   "source": [
    "\n",
    "[Back to top](#Index)\n",
    "## References\n",
    "\n",
    "- Starmer, Josh. \"Linear Regression, Clearly Explained!!!!.\" Youtube, 2017. https://www.youtube.com/watch?v=nk2CQITm_eo\n",
    "- Williams, John. \"Module 7 - A Model to Predict Housing Prices.\" student.emeritus.org, 2022. https://student.emeritus.org/courses/4289/modules"
   ]
  },
  {
   "cell_type": "code",
   "execution_count": 34,
   "metadata": {},
   "outputs": [
    {
     "data": {
      "text/plain": [
       "Index(['SalePrice', 'OverallQual', 'GrLivArea', 'GarageArea'], dtype='object')"
      ]
     },
     "execution_count": 34,
     "metadata": {},
     "output_type": "execute_result"
    }
   ],
   "source": [
    "cols[0:4].index"
   ]
  },
  {
   "cell_type": "code",
   "execution_count": null,
   "metadata": {},
   "outputs": [],
   "source": []
  }
 ],
 "metadata": {
  "kernelspec": {
   "display_name": "Python 3 (ipykernel)",
   "language": "python",
   "name": "python3"
  },
  "language_info": {
   "codemirror_mode": {
    "name": "ipython",
    "version": 3
   },
   "file_extension": ".py",
   "mimetype": "text/x-python",
   "name": "python",
   "nbconvert_exporter": "python",
   "pygments_lexer": "ipython3",
   "version": "3.9.12"
  }
 },
 "nbformat": 4,
 "nbformat_minor": 4
}
